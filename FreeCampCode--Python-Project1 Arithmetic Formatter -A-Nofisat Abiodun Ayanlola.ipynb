{
 "cells": [
  {
   "cell_type": "markdown",
   "id": "380bf6a2",
   "metadata": {},
   "source": [
    "Arithmetic Formatter You will be working on this project with our Replit starter code.\n",
    "\n",
    "Students in primary school often arrange arithmetic problems vertically to make them easier to solve. For example, \"235 + 52\" becomes:\n",
    "\n",
    "235\n",
    "\n",
    "52\n",
    "Create a function that receives a list of strings that are arithmetic problems and returns the problems arranged vertically and side-by-side. The function should optionally take a second argument. When the second argument is set to True, the answers should be displayed.\n",
    "\n",
    "Example Function Call:\n",
    "\n",
    "arithmetic_arranger([\"32 + 698\", \"3801 - 2\", \"45 + 43\", \"123 + 49\"]) Output:\n",
    "\n",
    "32 3801 45 123\n",
    "\n",
    "698 - 2 + 43 + 49\n",
    "Function Call:\n",
    "\n",
    "arithmetic_arranger([\"32 + 8\", \"1 - 3801\", \"9999 + 9999\", \"523 - 49\"], True) Output:\n",
    "\n",
    "32 1 9999 523\n",
    "\n",
    "8 - 3801 + 9999 - 49\n",
    "40 -3800 19998 474 Rules The function will return the correct conversion if the supplied problems are properly formatted, otherwise, it will return a string that describes an error that is meaningful to the user.\n",
    "\n",
    "Situations that will return an error: If there are too many problems supplied to the function. The limit is five, anything more will return: Error: Too many problems. The appropriate operators the function will accept are addition and subtraction. Multiplication and division will return an error. Other operators not mentioned in this bullet point will not need to be tested. The error returned will be: Error: Operator must be '+' or '-'. Each number (operand) should only contain digits. Otherwise, the function will return: Error: Numbers must only contain digits. Each operand (aka number on each side of the operator) has a max of four digits in width. Otherwise, the error string returned will be: Error: Numbers cannot be more than four digits. If the user supplied the correct format of problems, the conversion you return will follow these rules: There should be a single space between the operator and the longest of the two operands, the operator will be on the same line as the second operand, both operands will be in the same order as provided (the first will be the top one and the second will be the bottom). Numbers should be right-aligned. There should be four spaces between each problem. There should be dashes at the bottom of each problem. The dashes should run along the entire length of each problem individually. (The example above shows what this should look like.) Development Write your code in arithmetic_arranger.py. For development, you can use main.py to test your arithmetic_arranger() function. Click the \"run\" button and main.py will run.\n",
    "\n",
    "Testing The unit tests for this project are in test_module.py. We are running the tests from test_module.py in main.py for your convenience. The tests will run automatically whenever you hit the \"run\" button. Alternatively you may run the tests by inputting pytest in the console."
   ]
  },
  {
   "cell_type": "code",
   "execution_count": 1,
   "id": "7708c99e",
   "metadata": {},
   "outputs": [],
   "source": [
    "def arithmetic_arranger(Number_list, Logic= False):\n",
    "    if len(Number_list) <= 5:\n",
    "        Top_number = \"\"\n",
    "        bottom_number = \"\"\n",
    "        lines = \"\"\n",
    "        total = \"\"    \n",
    "        for x in range(len(Number_list)):\n",
    "            if Number_list[x].split()[1] in ['+','-']:\n",
    "                if Number_list[x].split()[0].isdigit() and Number_list[x].split()[2].isdigit():\n",
    "                    if  len(Number_list[x].split()[0])<=4 and len(Number_list[x].split()[2]) <=4:\n",
    "                        if Number_list[x].split()[1] in ['+']:\n",
    "                            Total = int(Number_list[x].split()[0]) + int(Number_list[x].split()[2])\n",
    "                            fnumber = Number_list[x].split()[0]\n",
    "                            operator = Number_list[x].split()[1]\n",
    "                            snumber = Number_list[x].split()[2]\n",
    "                            # Get distance for longest operator\n",
    "                            operatorDistance = max(len(fnumber), len(snumber)) + 2\n",
    "\n",
    "                            snumber = operator + snumber.rjust(operatorDistance - 1)\n",
    "                            Top_number = Top_number + fnumber.rjust(operatorDistance) + (4 * \" \")\n",
    "                            bottom_number = bottom_number + snumber + (4 * \" \")\n",
    "                            lines = lines + len(snumber) * \"_\" + (4 * \" \")\n",
    "                            total = total + str(Total).rjust(operatorDistance) + (4 * \" \")\n",
    "\n",
    "                        else:\n",
    "                            Total = int(Number_list[x].split()[0]) - int(Number_list[x].split()[2])\n",
    "                            Top_number = \"\"\n",
    "                            bottom_number = \"\"\n",
    "                            lines = \"\"\n",
    "                            total = \"\"\n",
    "                            fnumber = Number_list[x].split()[0]\n",
    "                            operator = Number_list[x].split()[1]\n",
    "                            snumber = Number_list[x].split()[2]\n",
    "                            # Get distance for longest operator\n",
    "                            operatorDistance = max(len(fnumber), len(snumber)) + 2\n",
    "\n",
    "                            snumber = operator + snumber.rjust(operatorDistance - 1)\n",
    "                            Top_number = Top_number + fnumber.rjust(operatorDistance) + (4 * \" \")\n",
    "                            bottom_number = bottom_number + snumber + (4 * \" \")\n",
    "                            lines = lines + len(snumber) * \"_\" + (4 * \" \")\n",
    "                            total = total + str(Total).rjust(operatorDistance) + (4 * \" \")\n",
    "\n",
    "                    else:\n",
    "                        print(\"Error: Numbers cannot be more than four digits.\")\n",
    "                else:\n",
    "                    print(\"Error: Numbers must only contain digits\")\n",
    "            else:\n",
    "                print(\"Error: Operator must be '+' or '-'\")\n",
    "        if Logic:\n",
    "            print(Top_number)\n",
    "            print(bottom_number)\n",
    "            print(lines)\n",
    "            print(total)\n",
    "        else:\n",
    "            print(Top_number)\n",
    "            print(bottom_number)\n",
    "            print(lines)\n",
    "    else:\n",
    "        print(\"Error: Too many problem\")"
   ]
  },
  {
   "cell_type": "code",
   "execution_count": 2,
   "id": "183dd922",
   "metadata": {},
   "outputs": [
    {
     "name": "stdout",
     "output_type": "stream",
     "text": [
      "  3801      45      123    \n",
      "-    2    + 43    +  49    \n",
      "______    ____    _____    \n",
      "  3799      88      172    \n"
     ]
    }
   ],
   "source": [
    "arithmetic_arranger([\"32 + 698\", \"3801 - 2\", \"45 + 43\", \"123 + 49\"], True)"
   ]
  },
  {
   "cell_type": "code",
   "execution_count": null,
   "id": "c0719487",
   "metadata": {},
   "outputs": [],
   "source": []
  }
 ],
 "metadata": {
  "kernelspec": {
   "display_name": "Python 3 (ipykernel)",
   "language": "python",
   "name": "python3"
  },
  "language_info": {
   "codemirror_mode": {
    "name": "ipython",
    "version": 3
   },
   "file_extension": ".py",
   "mimetype": "text/x-python",
   "name": "python",
   "nbconvert_exporter": "python",
   "pygments_lexer": "ipython3",
   "version": "3.9.7"
  }
 },
 "nbformat": 4,
 "nbformat_minor": 5
}
