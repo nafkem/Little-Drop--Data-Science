{
 "cells": [
  {
   "cell_type": "markdown",
   "id": "4c7e9e88",
   "metadata": {},
   "source": [
    "Scientific Computing with Python Scientific Computing with Python Projects Probability Calculator You will be working on this project with our Replit starter code.\n",
    "\n",
    "Suppose there is a hat containing 5 blue balls, 4 red balls, and 2 green balls. What is the probability that a random draw of 4 balls will contain at least 1 red ball and 2 green balls? While it would be possible to calculate the probability using advanced mathematics, an easier way is to write a program to perform a large number of experiments to estimate an approximate probability.\n",
    "\n",
    "For this project, you will write a program to determine the approximate probability of drawing certain balls randomly from a hat.\n",
    "\n",
    "First, create a Hat class in prob_calculator.py. The class should take a variable number of arguments that specify the number of balls of each color that are in the hat. For example, a class object could be created in any of these ways:\n",
    "\n",
    "hat1 = Hat(yellow=3, blue=2, green=6) hat2 = Hat(red=5, orange=4) hat3 = Hat(red=5, orange=4, black=1, blue=0, pink=2, striped=9) A hat will always be created with at least one ball. The arguments passed into the hat object upon creation should be converted to a contents instance variable. contents should be a list of strings containing one item for each ball in the hat. Each item in the list should be a color name representing a single ball of that color. For example, if your hat is {\"red\": 2, \"blue\": 1}, contents should be [\"red\", \"red\", \"blue\"].\n",
    "\n",
    "The Hat class should have a draw method that accepts an argument indicating the number of balls to draw from the hat. This method should remove balls at random from contents and return those balls as a list of strings. The balls should not go back into the hat during the draw, similar to an urn experiment without replacement. If the number of balls to draw exceeds the available quantity, return all the balls.\n",
    "\n",
    "Next, create an experiment function in prob_calculator.py (not inside the Hat class). This function should accept the following arguments:\n",
    "\n",
    "hat: A hat object containing balls that should be copied inside the function. expected_balls: An object indicating the exact group of balls to attempt to draw from the hat for the experiment. For example, to determine the probability of drawing 2 blue balls and 1 red ball from the hat, set expected_balls to {\"blue\":2, \"red\":1}. num_balls_drawn: The number of balls to draw out of the hat in each experiment. num_experiments: The number of experiments to perform. (The more experiments performed, the more accurate the approximate probability will be.) The experiment function should return a probability.\n",
    "\n",
    "For example, if you want to determine the probability of getting at least two red balls and one green ball when you draw five balls from a hat containing six black, four red, and three green. To do this, you will perform N experiments, count how many times M you get at least two red balls and one green ball, and estimate the probability as M/N. Each experiment consists of starting with a hat containing the specified balls, drawing several balls, and checking if you got the balls you were attempting to draw.\n",
    "\n",
    "Here is how you would call the experiment function based on the example above with 2000 experiments:\n",
    "\n",
    "hat = Hat(black=6, red=4, green=3) probability = experiment(hat=hat, expected_balls={\"red\":2,\"green\":1}, num_balls_drawn=5, num_experiments=2000) Since this is based on random draws, the probability will be slightly different each time the code is run.\n",
    "\n",
    "Hint: Consider using the modules that are already imported at the top of prob_calculator.py. Do not initialize random seed within prob_calculator.py.\n",
    "\n",
    "Development Write your code in prob_calculator.py. For development, you can use main.py to test your code. Click the \"run\" button and main.py will run.\n",
    "\n",
    "The boilerplate includes import statements for the copy and random modules. Consider using those in your project.\n",
    "\n",
    "Testing The unit tests for this project are in test_module.py. We imported the tests from test_module.py to main.py for your convenience. The tests will run automatically whenever you hit the \"run\" button.\n",
    "\n",
    "Submitting Copy your project's URL and submit it to freeCodeCamp."
   ]
  },
  {
   "cell_type": "code",
   "execution_count": 3,
   "id": "c4d8bdc0",
   "metadata": {},
   "outputs": [],
   "source": [
    "import copy\n",
    "import random\n",
    "# Consider using the modules imported above.\n",
    "\n",
    "\n",
    "class Hat:\n",
    "    def __init__(self, **kwargs):\n",
    "        self.contents = [k for k, v in kwargs.items() for _ in range(v)]\n",
    "\n",
    "    def draw(self, n):\n",
    "        n = min(n, len(self.contents))\n",
    "        return [self.contents.pop(random.randrange(len(self.contents))) for _ in range(n)]\n",
    "\n",
    "\n",
    "def experiment(hat, expected_balls, num_balls_drawn, num_experiments):\n",
    "    m = 0\n",
    "    for _ in range(num_experiments):\n",
    "        another_hat = copy.deepcopy(hat)\n",
    "        balls_drawn = another_hat.draw(num_balls_drawn)\n",
    "        balls_req = sum([1 for k, v in expected_balls.items() if balls_drawn.count(k) >= v])\n",
    "        m += 1 if balls_req == len(expected_balls) else 0\n",
    "\n",
    "    return m / num_experiments"
   ]
  },
  {
   "cell_type": "code",
   "execution_count": 6,
   "id": "a1d58ac5",
   "metadata": {},
   "outputs": [],
   "source": [
    "hat = Hat(black=6, red=4, green=3)\n",
    "probability = experiment(hat=hat, expected_balls={\"red\":2,\"green\":1}, num_balls_drawn=5, num_experiments=2000)"
   ]
  },
  {
   "cell_type": "code",
   "execution_count": 8,
   "id": "feac770d",
   "metadata": {},
   "outputs": [
    {
     "name": "stdout",
     "output_type": "stream",
     "text": [
      "0.369\n"
     ]
    }
   ],
   "source": [
    "print(probability)"
   ]
  },
  {
   "cell_type": "code",
   "execution_count": null,
   "id": "bff4f724",
   "metadata": {},
   "outputs": [],
   "source": []
  }
 ],
 "metadata": {
  "kernelspec": {
   "display_name": "Python 3 (ipykernel)",
   "language": "python",
   "name": "python3"
  },
  "language_info": {
   "codemirror_mode": {
    "name": "ipython",
    "version": 3
   },
   "file_extension": ".py",
   "mimetype": "text/x-python",
   "name": "python",
   "nbconvert_exporter": "python",
   "pygments_lexer": "ipython3",
   "version": "3.9.7"
  }
 },
 "nbformat": 4,
 "nbformat_minor": 5
}
