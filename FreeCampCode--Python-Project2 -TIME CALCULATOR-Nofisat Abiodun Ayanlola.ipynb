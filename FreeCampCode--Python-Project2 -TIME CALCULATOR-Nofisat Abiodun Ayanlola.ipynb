{
 "cells": [
  {
   "cell_type": "markdown",
   "id": "aba01ca1",
   "metadata": {},
   "source": [
    "Time Calculator You will be working on this project with our Replit starter code.\n",
    "\n",
    "Write a function named add_time that takes in two required parameters and one optional parameter:\n",
    "\n",
    "a start time in the 12-hour clock format (ending in AM or PM) a duration time that indicates the number of hours and minutes (optional) a starting day of the week, case insensitive The function should add the duration time to the start time and return the result.\n",
    "\n",
    "If the result will be the next day, it should show (next day) after the time. If the result will be more than one day later, it should show (n days later) after the time, where \"n\" is the number of days later.\n",
    "\n",
    "If the function is given the optional starting day of the week parameter, then the output should display the day of the week of the result. The day of the week in the output should appear after the time and before the number of days later.\n",
    "\n",
    "Below are some examples of different cases the function should handle. Pay close attention to the spacing and punctuation of the results.\n",
    "\n",
    "add_time(\"3:00 PM\", \"3:10\")\n",
    "\n",
    "Returns: 6:10 PM\n",
    "add_time(\"11:30 AM\", \"2:32\", \"Monday\")\n",
    "\n",
    "Returns: 2:02 PM, Monday\n",
    "add_time(\"11:43 AM\", \"00:20\")\n",
    "\n",
    "Returns: 12:03 PM\n",
    "add_time(\"10:10 PM\", \"3:30\")\n",
    "\n",
    "Returns: 1:40 AM (next day)\n",
    "add_time(\"11:43 PM\", \"24:20\", \"tueSday\")\n",
    "\n",
    "Returns: 12:03 AM, Thursday (2 days later)\n",
    "add_time(\"6:30 PM\", \"205:12\")\n",
    "\n",
    "Returns: 7:42 AM (9 days later)\n",
    "Do not import any Python libraries. Assume that the start times are valid times. The minutes in the duration time will be a whole number less than 60, but the hour can be any whole number.\n",
    "\n",
    "Development Write your code in time_calculator.py. For development, you can use main.py to test your time_calculator() function. Click the \"run\" button and main.py will run.\n",
    "\n",
    "Testing The unit tests for this project are in test_module.py. We imported the tests from test_module.py to main.py for your convenience. The tests will run automatically whenever you hit the \"run\" button."
   ]
  },
  {
   "cell_type": "code",
   "execution_count": 1,
   "id": "80f98e58",
   "metadata": {},
   "outputs": [],
   "source": [
    "def add_time(start,add,day=None):\n",
    "  time, period = start.split() \n",
    "  hour, minutes = map(int,time.split(':')) # converting everything to int \n",
    "  addH, addM = map(int,add.split(':'))\n",
    "  midday = ('PM','AM') \n",
    "  new_day = '' \n",
    "  later = ''\n",
    "  \n",
    "  # Clockwork: \n",
    "  # These calculations essentially do the math for capping minutes to 59 and hours to 12\n",
    "  # Divmod and tuple assigment!\n",
    "  carry, minutes = divmod(minutes + addM,60) # 'carry' is 1 (minutes >= 60) or 0 (minutes <= 59)\n",
    "  hour += carry \n",
    "  cycles, hour = divmod(hour + addH,12) # 'cycles' is # of 12-hours (half days) that 'hour' exceeds \n",
    "  \n",
    "  # AM or PM:\n",
    "  # We can also think of 'cycles' as the # of switches between AM and PM, this means that an even number of switches doesn't change the period but an odd number will\n",
    "  # Use this logic to subtract 1(odd cycles) or 0(even cycles) from the current period\n",
    "  period = abs(midday.index(period)-(cycles % 2)) # period is an index in midday\n",
    "  passed = (period + cycles) // 2  # 'passed' describes the number of days passed \n",
    "  \n",
    "  if hour == 0: # basically an edge case created from my modulus calculations\n",
    "    hour = 12\n",
    "\n",
    "  if minutes < 10: # standardizing time format, 12:1 -> 12:01\n",
    "    minutes = f'0{minutes}'\n",
    "\n",
    "  # Day of Week:\n",
    "  # In one line, we can determine what the current day of the week is by index, add the number of days passed, and get the new day of the week\n",
    "  # The modulus operation will scale the new day, so day 10 -> day 3, day 145 -> day 5, etc.\n",
    "  if day:\n",
    "      week = ('Sunday','Monday','Tuesday','Wednesday','Thursday','Friday','Saturday')\n",
    "      new_day = f', {week[(week.index(day.capitalize()) + passed) % 7]}' \n",
    "  \n",
    "  # Just some string formatting \n",
    "  if passed == 1:\n",
    "      later = ' (next day)'\n",
    "  elif passed != 0:\n",
    "      later = f' ({passed} days later)'\n",
    "      \n",
    "  return f'{hour}:{minutes} {midday[period]}{new_day}{later}'"
   ]
  },
  {
   "cell_type": "code",
   "execution_count": 2,
   "id": "8b022fa6",
   "metadata": {},
   "outputs": [
    {
     "data": {
      "text/plain": [
       "'11:33 PM'"
      ]
     },
     "execution_count": 2,
     "metadata": {},
     "output_type": "execute_result"
    }
   ],
   "source": [
    "\n",
    "add_time(\"12:43 AM\", \"10:50\")"
   ]
  },
  {
   "cell_type": "code",
   "execution_count": null,
   "id": "4e93b46c",
   "metadata": {},
   "outputs": [],
   "source": []
  }
 ],
 "metadata": {
  "kernelspec": {
   "display_name": "Python 3 (ipykernel)",
   "language": "python",
   "name": "python3"
  },
  "language_info": {
   "codemirror_mode": {
    "name": "ipython",
    "version": 3
   },
   "file_extension": ".py",
   "mimetype": "text/x-python",
   "name": "python",
   "nbconvert_exporter": "python",
   "pygments_lexer": "ipython3",
   "version": "3.9.7"
  }
 },
 "nbformat": 4,
 "nbformat_minor": 5
}
